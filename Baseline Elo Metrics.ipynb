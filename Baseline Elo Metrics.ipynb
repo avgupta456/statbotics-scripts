{
 "cells": [
  {
   "cell_type": "code",
   "execution_count": 1,
   "id": "096644b7",
   "metadata": {},
   "outputs": [],
   "source": [
    "from collections import defaultdict\n",
    "import json\n",
    "import statistics\n",
    "\n",
    "import numpy as np\n",
    "import pandas as pd\n",
    "import matplotlib\n",
    "import matplotlib.pyplot as plt\n",
    "\n",
    "%matplotlib notebook"
   ]
  },
  {
   "cell_type": "code",
   "execution_count": 2,
   "id": "93150953",
   "metadata": {},
   "outputs": [],
   "source": [
    "matches = pd.read_csv(\"https://raw.githubusercontent.com/avgupta456/statbotics-csvs/main/matches.csv\")"
   ]
  },
  {
   "cell_type": "code",
   "execution_count": 3,
   "id": "111eb086",
   "metadata": {},
   "outputs": [
    {
     "name": "stdout",
     "output_type": "stream",
     "text": [
      "2002 \t 2197 \t 0.5626 \t 0.2355 \t\t 2197 \t 0.5589 \t 0.2364\n",
      "2003 \t 3173 \t 0.6193 \t 0.2229 \t\t 3173 \t 0.6199 \t 0.2214\n",
      "2004 \t 3299 \t 0.6156 \t 0.2133 \t\t 3198 \t 0.6316 \t 0.2106\n",
      "2005 \t 2068 \t 0.6620 \t 0.2085 \t\t 2059 \t 0.6610 \t 0.2083\n",
      "2006 \t 3283 \t 0.6643 \t 0.2031 \t\t 3283 \t 0.6616 \t 0.2035\n",
      "2007 \t 3564 \t 0.6181 \t 0.2094 \t\t 3564 \t 0.6181 \t 0.2090\n",
      "2008 \t 4038 \t 0.6672 \t 0.1953 \t\t 4038 \t 0.6677 \t 0.1950\n",
      "2009 \t 4658 \t 0.6816 \t 0.1956 \t\t 4658 \t 0.6836 \t 0.1958\n",
      "2010 \t 5567 \t 0.6248 \t 0.1762 \t\t 5567 \t 0.6246 \t 0.1764\n",
      "2011 \t 6312 \t 0.7115 \t 0.1679 \t\t 6312 \t 0.7113 \t 0.1680\n",
      "2012 \t 7707 \t 0.6852 \t 0.1874 \t\t 7707 \t 0.6851 \t 0.1876\n",
      "2013 \t 8242 \t 0.7265 \t 0.1798 \t\t 8242 \t 0.7263 \t 0.1795\n",
      "2014 \t 10663 \t 0.7023 \t 0.1890 \t\t 10663 \t 0.7022 \t 0.1890\n",
      "2015 \t 11810 \t 0.7016 \t 0.1857 \t\t 11810 \t 0.7027 \t 0.1855\n",
      "2016 \t 13286 \t 0.7019 \t 0.1867 \t\t 13286 \t 0.7023 \t 0.1864\n",
      "2017 \t 15429 \t 0.6488 \t 0.2094 \t\t 15429 \t 0.6492 \t 0.2092\n",
      "2018 \t 16930 \t 0.7388 \t 0.1726 \t\t 16930 \t 0.7395 \t 0.1722\n",
      "2019 \t 18022 \t 0.7017 \t 0.1829 \t\t 18022 \t 0.7011 \t 0.1827\n",
      "2020 \t 4632 \t 0.6958 \t 0.1929 \t\t 4571 \t 0.6937 \t 0.1930\n"
     ]
    }
   ],
   "source": [
    "for year in range(2002, 2021):\n",
    "    sykes_matches = pd.read_csv(\"sykes/\" + str(year) + \".csv\")\n",
    "    \n",
    "    sykes_acc, sykes_mse, sykes_count = 0, 0, 0\n",
    "    for _, match in sykes_matches.iterrows():\n",
    "        pred = match[\"Red win likelihood\"]\n",
    "        if type(pred) != float:\n",
    "            pred = float(pred.split(\"%\")[0]) / 100\n",
    "        winner = match[\"Red victory\"]\n",
    "        \n",
    "        if not (pred >= 0 and winner >= 0):\n",
    "            continue\n",
    "        \n",
    "        if pred >= 0.5 and winner >= 1:\n",
    "            sykes_acc += 1\n",
    "        if pred < 0.5 and winner <= 0:\n",
    "            sykes_acc += 1\n",
    "        sykes_mse += (pred - winner) ** 2\n",
    "        \n",
    "        sykes_count += 1\n",
    "        \n",
    "    sykes_acc = round(sykes_acc / sykes_count, 4)\n",
    "    sykes_mse = round(sykes_mse / sykes_count, 4)\n",
    "        \n",
    "    sb_matches = matches[matches.year == year]\n",
    "    \n",
    "    sb_acc, sb_mse, sb_count = 0, 0, 0\n",
    "    for _, match in sb_matches.iterrows():\n",
    "        pred = match[\"elo_win_prob\"]\n",
    "        winner = 1 if match[\"winner\"] == \"red\" else (0 if match[\"winner\"] == \"blue\" else 0.5)\n",
    "        \n",
    "        if not (pred >= 0 and winner >= 0):\n",
    "            continue\n",
    "        \n",
    "        if pred >= 0.5 and winner >= 1:\n",
    "            sb_acc += 1\n",
    "        if pred < 0.5 and winner <= 0:\n",
    "            sb_acc += 1\n",
    "        sb_mse += (pred - winner) ** 2\n",
    "        sb_count += 1\n",
    "        \n",
    "    sb_acc = round(sb_acc / sb_count, 4)\n",
    "    sb_mse = round(sb_mse / sb_count, 4)\n",
    "\n",
    "    print(\n",
    "        year, \"\\t\", \n",
    "        sykes_count, \"\\t\", \n",
    "        \"{:.4f}\".format(sykes_acc), \n",
    "        \"\\t\", \"{:.4f}\".format(sykes_mse), \n",
    "        \"\\t\\t\", sb_count, \n",
    "        \"\\t\", \"{:.4f}\".format(sb_acc), \n",
    "        \"\\t\", \"{:.4f}\".format(sb_mse)\n",
    "    )"
   ]
  },
  {
   "cell_type": "code",
   "execution_count": null,
   "id": "1ce441ec",
   "metadata": {},
   "outputs": [],
   "source": []
  }
 ],
 "metadata": {
  "kernelspec": {
   "display_name": "Python 3 (ipykernel)",
   "language": "python",
   "name": "python3"
  },
  "language_info": {
   "codemirror_mode": {
    "name": "ipython",
    "version": 3
   },
   "file_extension": ".py",
   "mimetype": "text/x-python",
   "name": "python",
   "nbconvert_exporter": "python",
   "pygments_lexer": "ipython3",
   "version": "3.8.6"
  }
 },
 "nbformat": 4,
 "nbformat_minor": 5
}
